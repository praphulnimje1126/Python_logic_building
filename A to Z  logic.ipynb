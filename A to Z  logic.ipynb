{
 "cells": [
  {
   "cell_type": "code",
   "execution_count": 75,
   "id": "078de53b",
   "metadata": {},
   "outputs": [
    {
     "name": "stdout",
     "output_type": "stream",
     "text": [
      "        *        \n",
      "       * *       \n",
      "      *   *      \n",
      "     *     *     \n",
      "    *       *    \n",
      "   ***********   \n",
      "  *           *  \n",
      " *             * \n",
      "*               *\n"
     ]
    }
   ],
   "source": [
    "for i in range(0,9):\n",
    "    for j in range(0,17):\n",
    "        if (i==8 and (j==0 or j==16)) or (i==7 and (j==1 or j==15)) or (i==6 and (j==2 or j==14)) or (i==5 and (j==3 or j==13)) or (i==4 and (j==4 or j==12)) or (i==3 and (j==5 or j==11)) or (i==2 and (j==6 or j==10)) or (i==1 and (j==7 or j==9)) or (i==0 and j==8):\n",
    "            print(\"*\",end='')\n",
    "        elif i==5 and j>=3 and j<=13:\n",
    "            print(\"*\",end='')\n",
    "        else:\n",
    "            print(' ',end='')\n",
    "    print()"
   ]
  },
  {
   "cell_type": "code",
   "execution_count": 63,
   "id": "5c093557",
   "metadata": {},
   "outputs": [
    {
     "name": "stdout",
     "output_type": "stream",
     "text": [
      "*******  \n",
      "*      * \n",
      "*      * \n",
      "*      * \n",
      "*******  \n",
      "*      * \n",
      "*      * \n",
      "*      * \n",
      "*******  \n"
     ]
    }
   ],
   "source": [
    "for i in range(0,9):\n",
    "    for j in range(0,9):\n",
    "        if (i==0 or i==8 or i==4) and j<7:\n",
    "            print(\"*\",end='')\n",
    "        elif j==0:\n",
    "            print('*',end='')\n",
    "        elif ((i>=1 and i<=3) and j==7) or (i>=5 and i<=7) and j==7:\n",
    "            print('*',end='')\n",
    "        else:\n",
    "            print(' ',end='')\n",
    "    print()"
   ]
  },
  {
   "cell_type": "code",
   "execution_count": 53,
   "id": "ea0f43c6",
   "metadata": {},
   "outputs": [
    {
     "name": "stdout",
     "output_type": "stream",
     "text": [
      " ******* \n",
      "*        \n",
      "*        \n",
      "*        \n",
      "*        \n",
      "*        \n",
      "*        \n",
      "*        \n",
      " ******* \n"
     ]
    }
   ],
   "source": [
    "for i in range(0,9):\n",
    "    for j in range(0,9):\n",
    "        if (i==0 and (j>0 and j<8)) or (i==8 and (j>0 and j<8)):\n",
    "            print(\"*\",end='')\n",
    "        elif (j==0 and i>0 and i<8):\n",
    "            print(\"*\",end='')\n",
    "        else:\n",
    "            print(' ',end='')\n",
    "    print()"
   ]
  },
  {
   "cell_type": "code",
   "execution_count": 47,
   "id": "67d8ad5b",
   "metadata": {},
   "outputs": [
    {
     "name": "stdout",
     "output_type": "stream",
     "text": [
      "*******  \n",
      "*       *\n",
      "*       *\n",
      "*       *\n",
      "*       *\n",
      "*       *\n",
      "*       *\n",
      "*       *\n",
      "*******  \n"
     ]
    }
   ],
   "source": [
    "for i in range(0,9):\n",
    "    for j in range(0,9):\n",
    "        if (i==0 and j<7) or (i==8 and j<7):\n",
    "            print(\"*\",end='')\n",
    "        elif (j==0 and i>0 and i<8) or(j==8 and i>0 and i<8):\n",
    "            print(\"*\",end='')\n",
    "        else:\n",
    "            print(' ',end='')\n",
    "    print()"
   ]
  },
  {
   "cell_type": "code",
   "execution_count": 21,
   "id": "a5316223",
   "metadata": {},
   "outputs": [
    {
     "name": "stdout",
     "output_type": "stream",
     "text": [
      "*********\n",
      "*        \n",
      "*        \n",
      "*        \n",
      "*********\n",
      "*        \n",
      "*        \n",
      "*        \n",
      "*********\n"
     ]
    }
   ],
   "source": [
    "for i in range(0,9):\n",
    "    for j in range(0,9):\n",
    "        if i==0 or i==8 or i==4:\n",
    "            print(\"*\",end='')\n",
    "        elif j==0:\n",
    "            print('*',end='')\n",
    "        else:\n",
    "            print(' ',end='')\n",
    "    print()"
   ]
  },
  {
   "cell_type": "code",
   "execution_count": 23,
   "id": "17d8175d",
   "metadata": {},
   "outputs": [
    {
     "name": "stdout",
     "output_type": "stream",
     "text": [
      "*********\n",
      "*        \n",
      "*        \n",
      "*        \n",
      "*********\n",
      "*        \n",
      "*        \n",
      "*        \n",
      "*        \n"
     ]
    }
   ],
   "source": [
    "for i in range(0,9):\n",
    "    for j in range(0,9):\n",
    "        if i==0 or i==4:\n",
    "            print(\"*\",end='')\n",
    "        elif j==0:\n",
    "            print('*',end='')\n",
    "        else:\n",
    "            print(' ',end='')\n",
    "    print()"
   ]
  },
  {
   "cell_type": "code",
   "execution_count": 87,
   "id": "8b3f4305",
   "metadata": {},
   "outputs": [
    {
     "name": "stdout",
     "output_type": "stream",
     "text": [
      " *******     \n",
      "*            \n",
      "*            \n",
      "*            \n",
      "*            \n",
      "*    ********\n",
      "*       *   *\n",
      "*       *   *\n",
      " *******    *\n"
     ]
    }
   ],
   "source": [
    "for i in range(0,9):\n",
    "    for j in range(0,13):\n",
    "        if (i==0 and (j>0 and j<8)) or (i==8 and (j>0 and j<8)) or (j==0 and i>0 and i<8) or j==8 and i>4 and i<8:\n",
    "            print(\"*\",end='')\n",
    "        elif (i==5 and j>4) or (i>5 and j==12):\n",
    "            print(\"*\",end='')\n",
    "        else:\n",
    "            print(' ',end='')\n",
    "    print()"
   ]
  },
  {
   "cell_type": "code",
   "execution_count": 8,
   "id": "1b2c426a",
   "metadata": {},
   "outputs": [
    {
     "name": "stdout",
     "output_type": "stream",
     "text": [
      "*       *\n",
      "*       *\n",
      "*       *\n",
      "*       *\n",
      "*********\n",
      "*       *\n",
      "*       *\n",
      "*       *\n",
      "*       *\n"
     ]
    }
   ],
   "source": [
    "for i in range(0,9):\n",
    "    for j in range(0,9):\n",
    "        if i==4:\n",
    "            print(\"*\",end='')\n",
    "        elif j==0 or j==8:\n",
    "            print('*',end='')\n",
    "        else:\n",
    "            print(' ',end='')\n",
    "    print()"
   ]
  },
  {
   "cell_type": "code",
   "execution_count": 24,
   "id": "70fe6899",
   "metadata": {},
   "outputs": [
    {
     "name": "stdout",
     "output_type": "stream",
     "text": [
      "*********\n",
      "    *    \n",
      "    *    \n",
      "    *    \n",
      "    *    \n",
      "    *    \n",
      "    *    \n",
      "    *    \n",
      "*********\n"
     ]
    }
   ],
   "source": [
    "for i in range(0,9):\n",
    "    for j in range(0,9):\n",
    "        if i==0 or i==8:\n",
    "            print(\"*\",end='')\n",
    "        elif j==4:\n",
    "            print('*',end='')\n",
    "        else:\n",
    "            print(' ',end='')\n",
    "    print()"
   ]
  },
  {
   "cell_type": "code",
   "execution_count": 25,
   "id": "3a062edf",
   "metadata": {},
   "outputs": [
    {
     "name": "stdout",
     "output_type": "stream",
     "text": [
      "*********\n",
      "    *    \n",
      "    *    \n",
      "    *    \n",
      "    *    \n",
      "    *    \n",
      "    *    \n",
      "*   *    \n",
      " * *     \n"
     ]
    }
   ],
   "source": [
    "for i in range(0,9):\n",
    "    for j in range(0,9):\n",
    "        if i==0:\n",
    "            print(\"*\",end='')\n",
    "        elif j==4 and i!=8:\n",
    "            print('*',end='')\n",
    "        elif (i==7 and j==0) or (i==8 and (j==1 or j==3)):\n",
    "            print('*',end='')\n",
    "        else:\n",
    "            print(' ',end='')\n",
    "    print()"
   ]
  },
  {
   "cell_type": "code",
   "execution_count": 20,
   "id": "fde75e72",
   "metadata": {},
   "outputs": [
    {
     "name": "stdout",
     "output_type": "stream",
     "text": [
      "*       *\n",
      "*     *  \n",
      "*   *    \n",
      "* *      \n",
      "*        \n",
      "* *      \n",
      "*   *    \n",
      "*     *  \n",
      "*       *\n"
     ]
    }
   ],
   "source": [
    "for i in range(0,9):\n",
    "    for j in range(0,9):\n",
    "        if j==0 :\n",
    "            print(\"*\",end='')\n",
    "        elif ((i==3 or i==5) and j==2) or ((i==2 or i==6) and j==4) or ((i==1 or i==7) and j==6) or ((i==0 or i==8) and j==8):\n",
    "            print('*',end='')\n",
    "        else:\n",
    "            print(' ',end='')\n",
    "    print()"
   ]
  },
  {
   "cell_type": "code",
   "execution_count": 18,
   "id": "e725d7d0",
   "metadata": {},
   "outputs": [
    {
     "name": "stdout",
     "output_type": "stream",
     "text": [
      "*\n",
      "*\n",
      "*\n",
      "*\n",
      "*\n",
      "*\n",
      "*\n",
      "*\n",
      "*********\n"
     ]
    }
   ],
   "source": [
    "for i in range(0,9):\n",
    "    for j in range(0,9):\n",
    "        if i==8:\n",
    "            print(\"*\",end='')\n",
    "        elif j==0:\n",
    "            print('*',end='')\n",
    "    print()"
   ]
  },
  {
   "cell_type": "code",
   "execution_count": 11,
   "id": "61753615",
   "metadata": {},
   "outputs": [
    {
     "name": "stdout",
     "output_type": "stream",
     "text": [
      "*           *\n",
      "* *       * *\n",
      "*   *   *   *\n",
      "*     *     *\n",
      "*           *\n",
      "*           *\n",
      "*           *\n",
      "*           *\n",
      "*           *\n"
     ]
    }
   ],
   "source": [
    "for i in range(0,9):\n",
    "    for j in range(0,13):\n",
    "        if j==0 or j==12:\n",
    "            print(\"*\",end='')\n",
    "        elif (i==1 and (j==2 or j==10)) or (i==2 and(j==4 or j==8)) or (i==3 and j==6):\n",
    "            print('*',end='')\n",
    "        else:\n",
    "            print(' ',end='')\n",
    "    print()"
   ]
  },
  {
   "cell_type": "code",
   "execution_count": 14,
   "id": "d13e5311",
   "metadata": {},
   "outputs": [
    {
     "name": "stdout",
     "output_type": "stream",
     "text": [
      "*           *\n",
      "* *         *\n",
      "*   *       *\n",
      "*     *     *\n",
      "*       *   *\n",
      "*         * *\n",
      "*           *\n"
     ]
    }
   ],
   "source": [
    "for i in range(0,7):\n",
    "    for j in range(0,13):\n",
    "        if j==0 or j==12:\n",
    "            print(\"*\",end='')\n",
    "        elif (i==1 and j==2) or (i==2 and j==4) or (i==3 and j==6) or (i==4 and j==8) or (i==5 and j==10):\n",
    "            print('*',end='')\n",
    "        else:\n",
    "            print(' ',end='')\n",
    "    print()"
   ]
  },
  {
   "cell_type": "code",
   "execution_count": 43,
   "id": "4bc8dec6",
   "metadata": {},
   "outputs": [
    {
     "name": "stdout",
     "output_type": "stream",
     "text": [
      " ******* \n",
      "*       *\n",
      "*       *\n",
      "*       *\n",
      "*       *\n",
      "*       *\n",
      "*       *\n",
      "*       *\n",
      " ******* \n"
     ]
    }
   ],
   "source": [
    "for i in range(0,9):\n",
    "    for j in range(0,9):\n",
    "        if (i==0 and (j>0 and j<8)) or (i==8 and (j>0 and j<8)):\n",
    "            print(\"*\",end='')\n",
    "        elif (j==0 and i>0 and i<8) or(j==8 and i>0 and i<8):\n",
    "            print(\"*\",end='')\n",
    "        else:\n",
    "            print(' ',end='')\n",
    "    print()"
   ]
  },
  {
   "cell_type": "code",
   "execution_count": 18,
   "id": "0cecd867",
   "metadata": {},
   "outputs": [
    {
     "name": "stdout",
     "output_type": "stream",
     "text": [
      "*********  \n",
      "*        * \n",
      "*         *\n",
      "*         *\n",
      "*        * \n",
      "*********  \n",
      "*          \n",
      "*          \n",
      "*          \n",
      "*          \n",
      "*          \n"
     ]
    }
   ],
   "source": [
    "for i in range(0,11):\n",
    "    for j in range(0,11):\n",
    "        if j<9 and(i==0 or i==5):\n",
    "            print(\"*\",end='')\n",
    "        elif j==0:\n",
    "            print('*',end='')\n",
    "        elif ((i==1 or i==4) and j==9) or ((i==2 or i==3) and j==10):\n",
    "            print('*',end='')\n",
    "        else:\n",
    "            print(' ',end='')\n",
    "    print()"
   ]
  },
  {
   "cell_type": "code",
   "execution_count": 4,
   "id": "4686acd2",
   "metadata": {},
   "outputs": [
    {
     "name": "stdout",
     "output_type": "stream",
     "text": [
      " *******   \n",
      "*       *  \n",
      "*       *  \n",
      "*       *  \n",
      "*       *  \n",
      "*       *  \n",
      "*     * *  \n",
      "*       *  \n",
      " *******  *\n"
     ]
    }
   ],
   "source": [
    "for i in range(0,9):\n",
    "    for j in range(0,11):\n",
    "        if (i==0 and (j>0 and j<8)) or (i==8 and (j>0 and j<8)) or (j==0 and i>0 and i<8) or(j==8 and i>0 and i<8):\n",
    "            print(\"*\",end='')\n",
    "        elif (i==6 and j==6) or (i==8 and j==10):\n",
    "            print(\"*\",end='')\n",
    "        else:\n",
    "            print(' ',end='')\n",
    "    print()"
   ]
  },
  {
   "cell_type": "code",
   "execution_count": 17,
   "id": "0ad1b6f3",
   "metadata": {},
   "outputs": [
    {
     "name": "stdout",
     "output_type": "stream",
     "text": [
      "*********  \n",
      "*        * \n",
      "*         *\n",
      "*         *\n",
      "*        * \n",
      "*********  \n",
      "* *        \n",
      "*   *      \n",
      "*     *    \n",
      "*       *  \n",
      "*         *\n"
     ]
    }
   ],
   "source": [
    "for i in range(0,11):\n",
    "    for j in range(0,11):\n",
    "        if j<9 and(i==0 or i==5):\n",
    "            print(\"*\",end='')\n",
    "        elif j==0:\n",
    "            print('*',end='')\n",
    "        elif ((i==1 or i==4) and j==9) or ((i==2 or i==3) and j==10):\n",
    "            print('*',end='')\n",
    "        elif (i==6 and j==2) or (i==7 and j==4) or (i==8 and j==6) or (i==9 and j==8) or (i==10 and j==10):\n",
    "            print('*',end='')\n",
    "        else:\n",
    "            print(' ',end='')\n",
    "    print()"
   ]
  },
  {
   "cell_type": "code",
   "execution_count": 6,
   "id": "1156f4df",
   "metadata": {},
   "outputs": [
    {
     "name": "stdout",
     "output_type": "stream",
     "text": [
      " ********\n",
      "*        \n",
      "*        \n",
      "*        \n",
      " ********\n",
      "        *\n",
      "        *\n",
      "        *\n",
      "******** \n"
     ]
    }
   ],
   "source": [
    "for i in range(0,9):\n",
    "    for j in range(0,9):\n",
    "        if (i==0 and j!=0) or (i==8 and j!=8) or (i==4 and j!=0):\n",
    "            print(\"*\",end='')\n",
    "        elif j==0 and (i==2 or i==1 or i==3):\n",
    "            print  ('*',end='')\n",
    "        elif j==8 and (i==5 or i==6 or i==7):\n",
    "            print('*',end='')\n",
    "        else:\n",
    "            print(' ',end='')\n",
    "    print()"
   ]
  },
  {
   "cell_type": "code",
   "execution_count": 21,
   "id": "1fcff50e",
   "metadata": {},
   "outputs": [
    {
     "name": "stdout",
     "output_type": "stream",
     "text": [
      "*********\n",
      "    *    \n",
      "    *    \n",
      "    *    \n",
      "    *    \n",
      "    *    \n",
      "    *    \n",
      "    *    \n",
      "         \n"
     ]
    }
   ],
   "source": [
    "for i in range(0,9):\n",
    "    for j in range(0,9):\n",
    "        if i==0:\n",
    "            print(\"*\",end='')\n",
    "        elif j==4 and i!=8:\n",
    "            print('*',end='')\n",
    "        else:\n",
    "            print(' ',end='')\n",
    "    print()"
   ]
  },
  {
   "cell_type": "code",
   "execution_count": 19,
   "id": "ccd06f42",
   "metadata": {},
   "outputs": [
    {
     "name": "stdout",
     "output_type": "stream",
     "text": [
      "*         *\n",
      "*         *\n",
      "*         *\n",
      "*         *\n",
      "*         *\n",
      "*         *\n",
      "*         *\n",
      "  *  *  *  \n",
      "           \n"
     ]
    }
   ],
   "source": [
    "for i in range(0,9):\n",
    "    for j in range(0,11):\n",
    "        if i<7 and (j==0 or j==10):\n",
    "            print(\"*\",end='')\n",
    "        elif (i==7 and (j==2 or j==8 or j==5)):\n",
    "            print('*',end='')\n",
    "        else:\n",
    "            print(' ',end='')\n",
    "    print()"
   ]
  },
  {
   "cell_type": "code",
   "execution_count": 66,
   "id": "5bcebb67",
   "metadata": {},
   "outputs": [
    {
     "name": "stdout",
     "output_type": "stream",
     "text": [
      "*               *\n",
      " *             * \n",
      "  *           *  \n",
      "   *         *   \n",
      "    *       *    \n",
      "     *     *     \n",
      "      *   *      \n",
      "       * *       \n",
      "        *        \n"
     ]
    }
   ],
   "source": [
    "for i in range(0,9):\n",
    "    for j in range(0,17):\n",
    "        if (i==0 and (j==0 or j==16)) or (i==1 and (j==1 or j==15)) or (i==2 and (j==2 or j==14)) or (i==3 and (j==3 or j==13)) or (i==4 and (j==4 or j==12)) or (i==5 and (j==5 or j==11)) or (i==6 and (j==6 or j==10)) or (i==7 and (j==7 or j==9)) or (i==8 and j==8):\n",
    "            print(\"*\",end='')\n",
    "        else:\n",
    "            print(' ',end='')\n",
    "    print()"
   ]
  },
  {
   "cell_type": "code",
   "execution_count": 17,
   "id": "c6fef486",
   "metadata": {},
   "outputs": [
    {
     "name": "stdout",
     "output_type": "stream",
     "text": [
      "*           *\n",
      "*           *\n",
      "*           *\n",
      "*           *\n",
      "*           *\n",
      "*     *     *\n",
      "*   *   *   *\n",
      "* *       * *\n",
      "*           *\n"
     ]
    }
   ],
   "source": [
    "for i in range(0,9):\n",
    "    for j in range(0,13):\n",
    "        if j==0 or j==12:\n",
    "            print(\"*\",end='')\n",
    "        elif (i==7 and (j==2 or j==10)) or (i==6 and(j==4 or j==8)) or (i==5 and j==6):\n",
    "            print('*',end='')\n",
    "        else:\n",
    "            print(' ',end='')\n",
    "    print()"
   ]
  },
  {
   "cell_type": "code",
   "execution_count": 13,
   "id": "39c270c2",
   "metadata": {},
   "outputs": [
    {
     "name": "stdout",
     "output_type": "stream",
     "text": [
      "*           *\n",
      "  *       *  \n",
      "    *   *    \n",
      "      *      \n",
      "    *   *    \n",
      "  *       *  \n",
      "*           *\n",
      "             \n",
      "             \n"
     ]
    }
   ],
   "source": [
    "for i in range(0,9):\n",
    "    for j in range(0,13):\n",
    "        if ((i==1 or i==5) and (j==2 or j==10)) or ((i==2 or i==4) and(j==4 or j==8)) or (i==3 and j==6) or ((i==0 or i==6) and (j==0 or j==12)):\n",
    "            print('*',end='')\n",
    "        else:\n",
    "            print(' ',end='')\n",
    "    print()"
   ]
  },
  {
   "cell_type": "code",
   "execution_count": 68,
   "id": "ae34044b",
   "metadata": {},
   "outputs": [
    {
     "name": "stdout",
     "output_type": "stream",
     "text": [
      "*           *\n",
      "  *       *  \n",
      "    *   *    \n",
      "      *      \n",
      "      *      \n",
      "      *      \n",
      "      *      \n",
      "      *      \n",
      "      *      \n"
     ]
    }
   ],
   "source": [
    "for i in range(0,9):\n",
    "    for j in range(0,13):\n",
    "        if (i==1 and (j==2 or j==10)) or (i==2 and(j==4 or j==8)) or (i==3 and j==6) or (i==0 and (j==0 or j==12)):\n",
    "            print('*',end='')\n",
    "        elif j==6 and (i==8 or i==7 or i==6 or i==5 or i==4):\n",
    "            print('*',end='')\n",
    "        else:\n",
    "            print(' ',end='')\n",
    "    print()"
   ]
  },
  {
   "cell_type": "code",
   "execution_count": 77,
   "id": "ad0a87d7",
   "metadata": {},
   "outputs": [
    {
     "name": "stdout",
     "output_type": "stream",
     "text": [
      "*********\n",
      "       * \n",
      "      *  \n",
      "     *   \n",
      "    *    \n",
      "   *     \n",
      "  *      \n",
      " *       \n",
      "*********\n"
     ]
    }
   ],
   "source": [
    "for i in range(0,9):\n",
    "    for j in range(0,9):\n",
    "        if i==0 or i==8:\n",
    "            print(\"*\",end='')\n",
    "        elif (i==1 and j==7) or (i==2 and j==6) or (i==3 and j==5) or (i==4 and j==4) or (i==5 and j==3) or (i==6 and j==2) or (i==7 and j==1):\n",
    "            print('*',end='')\n",
    "        else:\n",
    "            print(' ',end='')\n",
    "    print()"
   ]
  }
 ],
 "metadata": {
  "kernelspec": {
   "display_name": "Python 3 (ipykernel)",
   "language": "python",
   "name": "python3"
  },
  "language_info": {
   "codemirror_mode": {
    "name": "ipython",
    "version": 3
   },
   "file_extension": ".py",
   "mimetype": "text/x-python",
   "name": "python",
   "nbconvert_exporter": "python",
   "pygments_lexer": "ipython3",
   "version": "3.9.13"
  }
 },
 "nbformat": 4,
 "nbformat_minor": 5
}
